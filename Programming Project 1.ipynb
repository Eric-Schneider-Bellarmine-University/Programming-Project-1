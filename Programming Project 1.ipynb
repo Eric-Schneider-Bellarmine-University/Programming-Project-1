{
 "cells": [
  {
   "cell_type": "markdown",
   "id": "c11365c6",
   "metadata": {},
   "source": [
    "# Programming Project 1\n",
    "## Rock Paper Scissors\n",
    "### Eric Schneider\n",
    "##### Version 1\n",
    "##### CS-150 Fall 2021 Semester"
   ]
  },
  {
   "cell_type": "code",
   "execution_count": 13,
   "id": "c4794874",
   "metadata": {},
   "outputs": [
    {
     "name": "stdout",
     "output_type": "stream",
     "text": [
      "Enter choice. \n",
      "[1]:Rock \n",
      "[2]:Paper \n",
      "[3]:Scissors \n",
      "[0]:Quit \n",
      "4\n",
      "\n",
      "Please only enter integer values between 0 and 3\n",
      "Enter choice. \n",
      "[1]:Rock \n",
      "[2]:Paper \n",
      "[3]:Scissors \n",
      "[0]:Quit \n",
      "5\n",
      "\n",
      "Please only enter integer values between 0 and 3\n",
      "Enter choice. \n",
      "[1]:Rock \n",
      "[2]:Paper \n",
      "[3]:Scissors \n",
      "[0]:Quit \n",
      "r\n",
      "\n",
      "Please only enter integer numbers between 0 and 3.\n",
      "Enter choice. \n",
      "[1]:Rock \n",
      "[2]:Paper \n",
      "[3]:Scissors \n",
      "[0]:Quit \n",
      "0\n",
      "Thank you for playing.\n"
     ]
    }
   ],
   "source": [
    "import random,time\n",
    "\n",
    "def mainframe():\n",
    "    while True:\n",
    "        player_choice=get_player_choice()\n",
    "        if not player_choice:\n",
    "            print('Thank you for playing.')\n",
    "            break\n",
    "        computer_choice=get_computer_choice()\n",
    "        print(get_result(possible_results,player_choice,computer_choice))\n",
    "        time.sleep(2)\n",
    "    \n",
    "def get_player_choice():\n",
    "    while True:\n",
    "        player_choice=input('Enter choice. \\n[1]:Rock \\n[2]:Paper \\n[3]:Scissors \\n[0]:Quit \\n')\n",
    "        try: \n",
    "            int(player_choice)\n",
    "        except:\n",
    "            print('\\nPlease only enter integer numbers between 0 and 3.')\n",
    "            time.sleep(2)\n",
    "        else:\n",
    "            player_choice=int(player_choice)\n",
    "            if player_choice in range(4):\n",
    "                return player_choice\n",
    "            else:\n",
    "                print('\\nPlease only enter integer values between 0 and 3')\n",
    "                time.sleep(2)\n",
    "                \n",
    "def get_computer_choice():\n",
    "    return random.randint(1,3)\n",
    "\n",
    "def get_result(possible_results,player,computer):\n",
    "    time.sleep(2)\n",
    "    return f'\\n{possible_results[(player,computer)]}\\n'\n",
    "\n",
    "possible_results={\n",
    "    (1,1):'Tie, Both Players Chose Rock',\n",
    "    (1,2):'You Lose, Paper Covers Rock',\n",
    "    (1,3):'You Win, Rock Crushes Scissors',\n",
    "    (2,1):'You win, Paper Covers Rock,',\n",
    "    (2,2):'Tie, Both Players Chose Paper',\n",
    "    (2,3):'You Lose, Scissors Cuts Paper',\n",
    "    (3,1):'You Win, Rock Crushes Scissors',\n",
    "    (3,2):'You Lose, Scissors Cuts Papaer',\n",
    "    (3,3):'Tie, Both Players Chose Scissors',\n",
    "}\n",
    "\n",
    "mainframe()"
   ]
  },
  {
   "cell_type": "code",
   "execution_count": null,
   "id": "5021a661",
   "metadata": {},
   "outputs": [],
   "source": []
  },
  {
   "cell_type": "code",
   "execution_count": null,
   "id": "68df93ce",
   "metadata": {},
   "outputs": [],
   "source": []
  },
  {
   "cell_type": "code",
   "execution_count": null,
   "id": "7dff9379",
   "metadata": {},
   "outputs": [],
   "source": []
  }
 ],
 "metadata": {
  "kernelspec": {
   "display_name": "Python 3",
   "language": "python",
   "name": "python3"
  },
  "language_info": {
   "codemirror_mode": {
    "name": "ipython",
    "version": 3
   },
   "file_extension": ".py",
   "mimetype": "text/x-python",
   "name": "python",
   "nbconvert_exporter": "python",
   "pygments_lexer": "ipython3",
   "version": "3.8.8"
  }
 },
 "nbformat": 4,
 "nbformat_minor": 5
}
